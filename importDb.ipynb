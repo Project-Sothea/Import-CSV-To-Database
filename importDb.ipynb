{
 "cells": [
  {
   "cell_type": "code",
   "id": "initial_id",
   "metadata": {
    "collapsed": true,
    "ExecuteTime": {
     "end_time": "2024-08-11T14:33:18.586218Z",
     "start_time": "2024-08-11T14:33:18.569925Z"
    }
   },
   "source": "import pandas as pd",
   "outputs": [],
   "execution_count": 126
  },
  {
   "metadata": {
    "ExecuteTime": {
     "end_time": "2024-08-11T18:20:34.710997Z",
     "start_time": "2024-08-11T18:20:34.677366Z"
    }
   },
   "cell_type": "code",
   "source": [
    "# open output.csv file and read out the columns\n",
    "df = pd.read_csv('csv/output.csv')\n",
    "csv_cols = df.columns\n",
    "\n",
    "# maps the expected column names in the csv to the actual schema column names\n",
    "csv_schema_cols = {\n",
    "    \"admin\": {\n",
    "        \"id\": \"id\",\n",
    "        \"vid\": \"vid\",\n",
    "        \"family_group\": \"family_group\",\n",
    "        \"reg_date\": \"reg_date\",\n",
    "        \"queue_no\": \"queue_no\",\n",
    "        \"name\": \"name\",\n",
    "        \"khmer_name\": \"khmer_name\",\n",
    "        \"dob\": \"dob\",\n",
    "        \"age\": \"age\",\n",
    "        \"gender\": \"gender\",\n",
    "        \"village\": \"village\",\n",
    "        \"contact_no\": \"contact_no\",\n",
    "        \"pregnant\": \"pregnant\",\n",
    "        \"last_menstrual_period\": \"last_menstrual_period\",\n",
    "        \"drug_allergies\": \"drug_allergies\",\n",
    "        \"sent_to_id\": \"sent_to_id\",\n",
    "        \"photo\": \"photo\"\n",
    "    },\n",
    "    \"pastmedicalhistory\": {\n",
    "        \"id\": \"id\",\n",
    "        \"vid\": \"vid\",\n",
    "        \"tuberculosis\": \"tuberculosis\",\n",
    "        \"diabetes\": \"diabetes\",\n",
    "        \"hypertension\": \"hypertension\",\n",
    "        \"hyperlipidemia\": \"hyperlipidemia\",\n",
    "        \"chronic_joint_pains\": \"chronic_joint_pains\",\n",
    "        \"chronic_muscle_aches\": \"chronic_muscle_aches\",\n",
    "        \"sexually_transmitted_disease\": \"sexually_transmitted_disease\",\n",
    "        \"specified_stds\": \"specified_stds\",\n",
    "        \"pmh_others\": \"others\",\n",
    "    },\n",
    "    \"socialhistory\": {\n",
    "        \"id\": \"id\",\n",
    "        \"vid\": \"vid\",\n",
    "        \"past_smoking_history\": \"past_smoking_history\",\n",
    "        \"no_of_years\": \"no_of_years\",\n",
    "        \"current_smoking_history\": \"current_smoking_history\",\n",
    "        \"cigarettes_per_day\": \"cigarettes_per_day\",\n",
    "        \"alcohol_history\": \"alcohol_history\",\n",
    "        \"how_regular\": \"how_regular\",\n",
    "    },\n",
    "    \"vitalstatistics\": {\n",
    "        \"id\": \"id\",\n",
    "        \"vid\": \"vid\",\n",
    "        \"temperature\": \"temperature\",\n",
    "        \"spo2\": \"spo2\",\n",
    "        \"systolic_bp1\": \"systolic_bp1\",\n",
    "        \"diastolic_bp1\": \"diastolic_bp1\",\n",
    "        \"systolic_bp2\": \"systolic_bp2\",\n",
    "        \"diastolic_bp2\": \"diastolic_bp2\",\n",
    "        \"avg_systolic_bp\": \"avg_systolic_bp\",\n",
    "        \"avg_diastolic_bp\": \"avg_diastolic_bp\",\n",
    "        \"hr1\": \"hr1\",\n",
    "        \"hr2\": \"hr2\",\n",
    "        \"avg_hr\": \"avg_hr\",\n",
    "        \"rand_blood_glucose_mmoll\": \"rand_blood_glucose_mmoll\",\n",
    "        \"rand_blood_glucose_mmollp\": \"rand_blood_glucose_mmollp\",\n",
    "    },\n",
    "    \"heightandweight\": {\n",
    "        \"id\": \"id\",\n",
    "        \"vid\": \"vid\",\n",
    "        \"height\": \"height\",\n",
    "        \"weight\": \"weight\",\n",
    "        \"bmi\": \"bmi\",\n",
    "        \"bmi_analysis\": \"bmi_analysis\",\n",
    "        \"paeds_height\": \"paeds_height\",\n",
    "        \"paeds_weight\": \"paeds_weight\",\n",
    "    },\n",
    "    \"visualacuity\": {\n",
    "        \"id\": \"id\",\n",
    "        \"vid\": \"vid\",\n",
    "        \"l_eye_vision\": \"l_eye_vision\",\n",
    "        \"r_eye_vision\": \"r_eye_vision\",\n",
    "        \"additional_intervention\": \"additional_intervention\",\n",
    "    },\n",
    "    \"doctorsconsultation\": {\n",
    "        \"id\": \"id\",\n",
    "        \"vid\": \"vid\",\n",
    "        \"healthy\": \"healthy\",\n",
    "        \"msk\": \"msk\",\n",
    "        \"cvs\": \"cvs\",\n",
    "        \"respi\": \"respi\",\n",
    "        \"gu\": \"gu\",\n",
    "        \"git\": \"git\",\n",
    "        \"eye\": \"eye\",\n",
    "        \"derm\": \"derm\",\n",
    "        \"dc_others\": \"others\",\n",
    "        \"consultation_notes\": \"consultation_notes\",\n",
    "        \"diagnosis\": \"diagnosis\",\n",
    "        \"treatment\": \"treatment\",\n",
    "        \"referral_needed\": \"referral_needed\",\n",
    "        \"referral_loc\": \"referral_loc\",\n",
    "        \"remarks\": \"remarks\",\n",
    "    }\n",
    "}\n",
    "\n",
    "# assert the sizes of the columns\n",
    "assert(len(csv_cols) == 69)\n",
    "assert(len(csv_schema_cols[\"admin\"]) == 17)\n",
    "assert(len(csv_schema_cols[\"pastmedicalhistory\"]) == 11)\n",
    "assert(len(csv_schema_cols[\"socialhistory\"]) == 8)\n",
    "assert(len(csv_schema_cols[\"vitalstatistics\"]) == 15)\n",
    "assert(len(csv_schema_cols[\"heightandweight\"]) == 8)\n",
    "assert(len(csv_schema_cols[\"visualacuity\"]) == 5)\n",
    "assert(len(csv_schema_cols[\"doctorsconsultation\"]) == 17)"
   ],
   "id": "18f50f48c8a03650",
   "outputs": [],
   "execution_count": 139
  },
  {
   "metadata": {
    "ExecuteTime": {
     "end_time": "2024-08-11T18:22:14.243789Z",
     "start_time": "2024-08-11T18:22:14.237835Z"
    }
   },
   "cell_type": "code",
   "source": [
    "# For each row, split into multiple rows based on the category they belong to (admin, pastmedicalhistory, socialhistory, vitalstatistics, heightandweight, visualacuity, doctorsconsultation)\n",
    "# and write to a new csv file in the same directory\n",
    "# the first two columns are id and vid"
   ],
   "id": "c5e853c8bd65ab5e",
   "outputs": [],
   "execution_count": 150
  },
  {
   "metadata": {
    "ExecuteTime": {
     "end_time": "2024-08-11T18:22:14.563013Z",
     "start_time": "2024-08-11T18:22:14.560327Z"
    }
   },
   "cell_type": "code",
   "source": [
    "def removeNullRows(df: pd.DataFrame, columns_to_keep: list) -> pd.DataFrame:\n",
    "    non_keep_columns = [col for col in df.columns if col not in columns_to_keep]\n",
    "    return df[~df[non_keep_columns].isna().all(axis=1)]"
   ],
   "id": "dbf48c3c87c5879d",
   "outputs": [],
   "execution_count": 151
  },
  {
   "metadata": {
    "ExecuteTime": {
     "end_time": "2024-08-11T18:22:15.027179Z",
     "start_time": "2024-08-11T18:22:15.019877Z"
    }
   },
   "cell_type": "code",
   "source": [
    "# admin table\n",
    "assert(len(list(csv_schema_cols[\"admin\"].keys())) == 17)\n",
    "admin = df[list(csv_schema_cols[\"admin\"].keys())]                     # select only the columns we need\n",
    "admin = admin.rename(columns=csv_schema_cols[\"admin\"], inplace=False) # rename the columns to the schema names"
   ],
   "id": "aa102d4948d27f20",
   "outputs": [],
   "execution_count": 152
  },
  {
   "metadata": {
    "ExecuteTime": {
     "end_time": "2024-08-11T18:22:15.419452Z",
     "start_time": "2024-08-11T18:22:15.414041Z"
    }
   },
   "cell_type": "code",
   "source": [
    "# pastmedicalhistory table\n",
    "assert(len(csv_schema_cols[\"pastmedicalhistory\"].values()) == 11)\n",
    "pastmedicalhistory = df[list(csv_schema_cols[\"pastmedicalhistory\"].keys())]\n",
    "pastmedicalhistory = pastmedicalhistory.rename(columns=csv_schema_cols[\"pastmedicalhistory\"] ,inplace=False)\n",
    "\n",
    "pastmedicalhistory = removeNullRows(pastmedicalhistory, ['id', 'vid'])"
   ],
   "id": "f50c07df81652d72",
   "outputs": [],
   "execution_count": 153
  },
  {
   "metadata": {
    "ExecuteTime": {
     "end_time": "2024-08-11T18:22:15.659462Z",
     "start_time": "2024-08-11T18:22:15.655751Z"
    }
   },
   "cell_type": "code",
   "source": [
    "# socialhistory table\n",
    "assert(len(csv_schema_cols[\"socialhistory\"]) == 8)\n",
    "socialhistory = df[list(csv_schema_cols[\"socialhistory\"].keys())]\n",
    "socialhistory = socialhistory.rename(columns=csv_schema_cols[\"socialhistory\"], inplace=False)\n",
    "\n",
    "socialhistory = removeNullRows(socialhistory, ['id', 'vid'])"
   ],
   "id": "52847e9db77ac07f",
   "outputs": [],
   "execution_count": 154
  },
  {
   "metadata": {
    "ExecuteTime": {
     "end_time": "2024-08-11T18:22:15.939618Z",
     "start_time": "2024-08-11T18:22:15.932296Z"
    }
   },
   "cell_type": "code",
   "source": [
    "# vitalstatistics table\n",
    "assert len(csv_schema_cols[\"vitalstatistics\"]) == 15\n",
    "vitalstatistics = df[list(csv_schema_cols[\"vitalstatistics\"].keys())]\n",
    "vitalstatistics = vitalstatistics.rename(columns=csv_schema_cols[\"vitalstatistics\"], inplace=False)\n",
    "\n",
    "vitalstatistics = removeNullRows(vitalstatistics, ['id', 'vid'])"
   ],
   "id": "3e691e595a5f8066",
   "outputs": [],
   "execution_count": 155
  },
  {
   "metadata": {
    "ExecuteTime": {
     "end_time": "2024-08-11T18:22:16.545921Z",
     "start_time": "2024-08-11T18:22:16.539892Z"
    }
   },
   "cell_type": "code",
   "source": [
    "# heightandweight table\n",
    "assert len(csv_schema_cols[\"heightandweight\"]) == 8\n",
    "heightandweight = df[list(csv_schema_cols[\"heightandweight\"].keys())]\n",
    "heightandweight = heightandweight.rename(columns=csv_schema_cols[\"heightandweight\"], inplace=False)\n",
    "\n",
    "heightandweight = removeNullRows(heightandweight, ['id', 'vid'])"
   ],
   "id": "3d16e47bef91bf77",
   "outputs": [],
   "execution_count": 156
  },
  {
   "metadata": {
    "ExecuteTime": {
     "end_time": "2024-08-11T18:22:17.142202Z",
     "start_time": "2024-08-11T18:22:17.136423Z"
    }
   },
   "cell_type": "code",
   "source": [
    "# visualacuity table\n",
    "assert len(csv_schema_cols[\"visualacuity\"]) == 5\n",
    "visualacuity = df[list(csv_schema_cols[\"visualacuity\"].keys())]\n",
    "visualacuity = visualacuity.rename(columns=csv_schema_cols[\"visualacuity\"], inplace=False)\n",
    "\n",
    "visualacuity = removeNullRows(visualacuity, ['id', 'vid'])"
   ],
   "id": "13b43e4624cdb3e6",
   "outputs": [],
   "execution_count": 157
  },
  {
   "metadata": {
    "ExecuteTime": {
     "end_time": "2024-08-11T18:22:25.971819Z",
     "start_time": "2024-08-11T18:22:25.961329Z"
    }
   },
   "cell_type": "code",
   "source": [
    "# doctorsconsultation table\n",
    "assert len(csv_schema_cols[\"doctorsconsultation\"]) == 17\n",
    "doctorsconsultation = df[list(csv_schema_cols[\"doctorsconsultation\"].keys())]\n",
    "doctorsconsultation = doctorsconsultation.rename(columns=csv_schema_cols[\"doctorsconsultation\"], inplace=False)\n",
    "\n",
    "doctorsconsultation = removeNullRows(doctorsconsultation, ['id', 'vid'])"
   ],
   "id": "38e2d9a905a3ed69",
   "outputs": [],
   "execution_count": 158
  },
  {
   "metadata": {
    "ExecuteTime": {
     "end_time": "2024-08-11T18:22:44.318712Z",
     "start_time": "2024-08-11T18:22:44.253424Z"
    }
   },
   "cell_type": "code",
   "source": [
    "from sqlalchemy import create_engine\n",
    "\n",
    "database_name = \"patients\"\n",
    "host_name = \"localhost\"\n",
    "user_name = \"jieqiboh\"\n",
    "password = \"postgres\"\n",
    "port_number = \"5432\"\n",
    "\n",
    "# Format the connection string\n",
    "connection_string = f'postgresql+psycopg2://{user_name}:{password}@{host_name}:{port_number}/{database_name}'\n",
    "\n",
    "# Create the SQLAlchemy engine\n",
    "engine = create_engine(connection_string)\n",
    "\n",
    "# Write each DataFrame to its respective table\n",
    "admin.to_sql('admin', engine, if_exists='append', index=False)\n",
    "pastmedicalhistory.to_sql('pastmedicalhistory', engine, if_exists='append', index=False)\n",
    "socialhistory.to_sql('socialhistory', engine, if_exists='append', index=False)\n",
    "vitalstatistics.to_sql('vitalstatistics', engine, if_exists='append', index=False)\n",
    "heightandweight.to_sql('heightandweight', engine, if_exists='append', index=False)\n",
    "visualacuity.to_sql('visualacuity', engine, if_exists='append', index=False)\n",
    "doctorsconsultation.to_sql('doctorsconsultation', engine, if_exists='append', index=False)\n",
    "\n",
    "print(\"DataFrame has been written to the database.\")"
   ],
   "id": "256a54e1c6c1d494",
   "outputs": [
    {
     "name": "stdout",
     "output_type": "stream",
     "text": [
      "DataFrame has been written to the database.\n"
     ]
    }
   ],
   "execution_count": 160
  },
  {
   "metadata": {
    "ExecuteTime": {
     "end_time": "2024-08-11T18:19:15.397056Z",
     "start_time": "2024-08-11T18:19:15.380146Z"
    }
   },
   "cell_type": "code",
   "source": "",
   "id": "d7ad08fb5cc414ff",
   "outputs": [],
   "execution_count": 137
  },
  {
   "metadata": {},
   "cell_type": "code",
   "outputs": [],
   "execution_count": null,
   "source": "",
   "id": "30ccf99085f3823"
  }
 ],
 "metadata": {
  "kernelspec": {
   "display_name": "Python 3",
   "language": "python",
   "name": "python3"
  },
  "language_info": {
   "codemirror_mode": {
    "name": "ipython",
    "version": 2
   },
   "file_extension": ".py",
   "mimetype": "text/x-python",
   "name": "python",
   "nbconvert_exporter": "python",
   "pygments_lexer": "ipython2",
   "version": "2.7.6"
  }
 },
 "nbformat": 4,
 "nbformat_minor": 5
}
